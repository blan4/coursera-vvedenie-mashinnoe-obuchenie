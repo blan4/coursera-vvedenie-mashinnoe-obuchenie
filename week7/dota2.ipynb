{
 "cells": [
  {
   "cell_type": "markdown",
   "metadata": {},
   "source": [
    "https://inclass.kaggle.com/c/dota-2-win-probability-prediction"
   ]
  },
  {
   "cell_type": "markdown",
   "metadata": {},
   "source": [
    "## Градиентный бустинг в лоб"
   ]
  },
  {
   "cell_type": "code",
   "execution_count": 22,
   "metadata": {
    "collapsed": false
   },
   "outputs": [],
   "source": [
    "%matplotlib inline\n",
    "import datetime\n",
    "import pandas as pd\n",
    "import numpy as np\n",
    "\n",
    "from sklearn.ensemble import GradientBoostingClassifier\n",
    "from sklearn.ensemble import RandomForestClassifier\n",
    "from sklearn.linear_model import LogisticRegression\n",
    "\n",
    "from sklearn.model_selection import KFold\n",
    "from sklearn.model_selection import train_test_split\n",
    "from sklearn.model_selection import cross_val_score\n",
    "from sklearn.model_selection import GridSearchCV\n",
    "from sklearn.model_selection import StratifiedKFold\n",
    "from sklearn.metrics import roc_auc_score, roc_curve, auc\n",
    "from sklearn.preprocessing import StandardScaler\n",
    "import seaborn as sns"
   ]
  },
  {
   "cell_type": "code",
   "execution_count": 14,
   "metadata": {
    "collapsed": false
   },
   "outputs": [
    {
     "data": {
      "text/html": [
       "<div>\n",
       "<table border=\"1\" class=\"dataframe\">\n",
       "  <thead>\n",
       "    <tr style=\"text-align: right;\">\n",
       "      <th></th>\n",
       "      <th>start_time</th>\n",
       "      <th>lobby_type</th>\n",
       "      <th>r1_hero</th>\n",
       "      <th>r1_level</th>\n",
       "      <th>r1_xp</th>\n",
       "      <th>r1_gold</th>\n",
       "      <th>r1_lh</th>\n",
       "      <th>r1_kills</th>\n",
       "      <th>r1_deaths</th>\n",
       "      <th>r1_items</th>\n",
       "      <th>...</th>\n",
       "      <th>dire_boots_count</th>\n",
       "      <th>dire_ward_observer_count</th>\n",
       "      <th>dire_ward_sentry_count</th>\n",
       "      <th>dire_first_ward_time</th>\n",
       "      <th>duration</th>\n",
       "      <th>radiant_win</th>\n",
       "      <th>tower_status_radiant</th>\n",
       "      <th>tower_status_dire</th>\n",
       "      <th>barracks_status_radiant</th>\n",
       "      <th>barracks_status_dire</th>\n",
       "    </tr>\n",
       "    <tr>\n",
       "      <th>match_id</th>\n",
       "      <th></th>\n",
       "      <th></th>\n",
       "      <th></th>\n",
       "      <th></th>\n",
       "      <th></th>\n",
       "      <th></th>\n",
       "      <th></th>\n",
       "      <th></th>\n",
       "      <th></th>\n",
       "      <th></th>\n",
       "      <th></th>\n",
       "      <th></th>\n",
       "      <th></th>\n",
       "      <th></th>\n",
       "      <th></th>\n",
       "      <th></th>\n",
       "      <th></th>\n",
       "      <th></th>\n",
       "      <th></th>\n",
       "      <th></th>\n",
       "      <th></th>\n",
       "    </tr>\n",
       "  </thead>\n",
       "  <tbody>\n",
       "    <tr>\n",
       "      <th>0</th>\n",
       "      <td>1430198770</td>\n",
       "      <td>7</td>\n",
       "      <td>11</td>\n",
       "      <td>5</td>\n",
       "      <td>2098</td>\n",
       "      <td>1489</td>\n",
       "      <td>20</td>\n",
       "      <td>0</td>\n",
       "      <td>0</td>\n",
       "      <td>7</td>\n",
       "      <td>...</td>\n",
       "      <td>4</td>\n",
       "      <td>2</td>\n",
       "      <td>2</td>\n",
       "      <td>-52.0</td>\n",
       "      <td>2874</td>\n",
       "      <td>1</td>\n",
       "      <td>1796</td>\n",
       "      <td>0</td>\n",
       "      <td>51</td>\n",
       "      <td>0</td>\n",
       "    </tr>\n",
       "    <tr>\n",
       "      <th>1</th>\n",
       "      <td>1430220345</td>\n",
       "      <td>0</td>\n",
       "      <td>42</td>\n",
       "      <td>4</td>\n",
       "      <td>1188</td>\n",
       "      <td>1033</td>\n",
       "      <td>9</td>\n",
       "      <td>0</td>\n",
       "      <td>1</td>\n",
       "      <td>12</td>\n",
       "      <td>...</td>\n",
       "      <td>4</td>\n",
       "      <td>3</td>\n",
       "      <td>1</td>\n",
       "      <td>-5.0</td>\n",
       "      <td>2463</td>\n",
       "      <td>1</td>\n",
       "      <td>1974</td>\n",
       "      <td>0</td>\n",
       "      <td>63</td>\n",
       "      <td>1</td>\n",
       "    </tr>\n",
       "    <tr>\n",
       "      <th>2</th>\n",
       "      <td>1430227081</td>\n",
       "      <td>7</td>\n",
       "      <td>33</td>\n",
       "      <td>4</td>\n",
       "      <td>1319</td>\n",
       "      <td>1270</td>\n",
       "      <td>22</td>\n",
       "      <td>0</td>\n",
       "      <td>0</td>\n",
       "      <td>12</td>\n",
       "      <td>...</td>\n",
       "      <td>4</td>\n",
       "      <td>3</td>\n",
       "      <td>1</td>\n",
       "      <td>13.0</td>\n",
       "      <td>2130</td>\n",
       "      <td>0</td>\n",
       "      <td>0</td>\n",
       "      <td>1830</td>\n",
       "      <td>0</td>\n",
       "      <td>63</td>\n",
       "    </tr>\n",
       "    <tr>\n",
       "      <th>3</th>\n",
       "      <td>1430263531</td>\n",
       "      <td>1</td>\n",
       "      <td>29</td>\n",
       "      <td>4</td>\n",
       "      <td>1779</td>\n",
       "      <td>1056</td>\n",
       "      <td>14</td>\n",
       "      <td>0</td>\n",
       "      <td>0</td>\n",
       "      <td>5</td>\n",
       "      <td>...</td>\n",
       "      <td>4</td>\n",
       "      <td>2</td>\n",
       "      <td>0</td>\n",
       "      <td>27.0</td>\n",
       "      <td>1459</td>\n",
       "      <td>0</td>\n",
       "      <td>1920</td>\n",
       "      <td>2047</td>\n",
       "      <td>50</td>\n",
       "      <td>63</td>\n",
       "    </tr>\n",
       "    <tr>\n",
       "      <th>4</th>\n",
       "      <td>1430282290</td>\n",
       "      <td>7</td>\n",
       "      <td>13</td>\n",
       "      <td>4</td>\n",
       "      <td>1431</td>\n",
       "      <td>1090</td>\n",
       "      <td>8</td>\n",
       "      <td>1</td>\n",
       "      <td>0</td>\n",
       "      <td>8</td>\n",
       "      <td>...</td>\n",
       "      <td>3</td>\n",
       "      <td>3</td>\n",
       "      <td>0</td>\n",
       "      <td>-16.0</td>\n",
       "      <td>2449</td>\n",
       "      <td>0</td>\n",
       "      <td>4</td>\n",
       "      <td>1974</td>\n",
       "      <td>3</td>\n",
       "      <td>63</td>\n",
       "    </tr>\n",
       "  </tbody>\n",
       "</table>\n",
       "<p>5 rows × 108 columns</p>\n",
       "</div>"
      ],
      "text/plain": [
       "          start_time  lobby_type  r1_hero  r1_level  r1_xp  r1_gold  r1_lh  \\\n",
       "match_id                                                                     \n",
       "0         1430198770           7       11         5   2098     1489     20   \n",
       "1         1430220345           0       42         4   1188     1033      9   \n",
       "2         1430227081           7       33         4   1319     1270     22   \n",
       "3         1430263531           1       29         4   1779     1056     14   \n",
       "4         1430282290           7       13         4   1431     1090      8   \n",
       "\n",
       "          r1_kills  r1_deaths  r1_items          ...           \\\n",
       "match_id                                         ...            \n",
       "0                0          0         7          ...            \n",
       "1                0          1        12          ...            \n",
       "2                0          0        12          ...            \n",
       "3                0          0         5          ...            \n",
       "4                1          0         8          ...            \n",
       "\n",
       "          dire_boots_count  dire_ward_observer_count  dire_ward_sentry_count  \\\n",
       "match_id                                                                       \n",
       "0                        4                         2                       2   \n",
       "1                        4                         3                       1   \n",
       "2                        4                         3                       1   \n",
       "3                        4                         2                       0   \n",
       "4                        3                         3                       0   \n",
       "\n",
       "          dire_first_ward_time  duration  radiant_win  tower_status_radiant  \\\n",
       "match_id                                                                      \n",
       "0                        -52.0      2874            1                  1796   \n",
       "1                         -5.0      2463            1                  1974   \n",
       "2                         13.0      2130            0                     0   \n",
       "3                         27.0      1459            0                  1920   \n",
       "4                        -16.0      2449            0                     4   \n",
       "\n",
       "          tower_status_dire  barracks_status_radiant  barracks_status_dire  \n",
       "match_id                                                                    \n",
       "0                         0                       51                     0  \n",
       "1                         0                       63                     1  \n",
       "2                      1830                        0                    63  \n",
       "3                      2047                       50                    63  \n",
       "4                      1974                        3                    63  \n",
       "\n",
       "[5 rows x 108 columns]"
      ]
     },
     "execution_count": 14,
     "metadata": {},
     "output_type": "execute_result"
    }
   ],
   "source": [
    "test = pd.read_csv('data/features_test.csv.zip', index_col='match_id')\n",
    "train = pd.read_csv('data/features.csv.zip', index_col='match_id')\n",
    "train.head()"
   ]
  },
  {
   "cell_type": "code",
   "execution_count": 3,
   "metadata": {
    "collapsed": false
   },
   "outputs": [
    {
     "data": {
      "text/plain": [
       "['first_blood_time',\n",
       " 'first_blood_team',\n",
       " 'first_blood_player1',\n",
       " 'first_blood_player2',\n",
       " 'radiant_bottle_time',\n",
       " 'radiant_courier_time',\n",
       " 'radiant_flying_courier_time',\n",
       " 'radiant_first_ward_time',\n",
       " 'dire_bottle_time',\n",
       " 'dire_courier_time',\n",
       " 'dire_flying_courier_time',\n",
       " 'dire_first_ward_time']"
      ]
     },
     "execution_count": 3,
     "metadata": {},
     "output_type": "execute_result"
    }
   ],
   "source": [
    "[i for i, v in train.count().iteritems() if v < 97230]"
   ]
  },
  {
   "cell_type": "code",
   "execution_count": 3,
   "metadata": {
    "collapsed": false
   },
   "outputs": [],
   "source": [
    "train.fillna(0, inplace=True)\n",
    "y = train['radiant_win']\n",
    "X = train.drop(['start_time', 'duration', 'radiant_win', 'tower_status_radiant', 'tower_status_dire',\n",
    "                           'barracks_status_radiant', 'barracks_status_dire'], axis=1)\n",
    "\n",
    "test.fillna(0, inplace=True)\n",
    "X_test = test.drop(['start_time'], axis=1)"
   ]
  },
  {
   "cell_type": "code",
   "execution_count": 4,
   "metadata": {
    "collapsed": false
   },
   "outputs": [],
   "source": [
    "def testGBC(X, y, kfold, num_tree):\n",
    "    clf = GradientBoostingClassifier(n_estimators=num_tree, random_state=42, verbose=False)\n",
    "    start_time = datetime.datetime.now()\n",
    "    score = cross_val_score(clf, X, y, cv=kfold, scoring='roc_auc')\n",
    "    end_time = datetime.datetime.now()\n",
    "    print(\"%s) time to fit = %s; ROC_AUC = %s\\n\" %\n",
    "          (num_tree, end_time-start_time, score.mean()))\n",
    "    \n",
    "def describeImportance(clf, X):\n",
    "    indices = np.argsort(clf.feature_importances_)[::-1]\n",
    "    for f in range(X.shape[1]):\n",
    "        print('%d. feature %d %s (%f)' % (f + 1, indices[f], X.columns[indices[f]],\n",
    "                                          clf.feature_importances_[indices[f]]))\n",
    "\n",
    "def trainGBC(X, y):\n",
    "    clf = GradientBoostingClassifier(n_estimators=50, random_state=42, verbose=False)\n",
    "    start_time = datetime.datetime.now()\n",
    "    clf.fit(X, y)\n",
    "    end_time = datetime.datetime.now()\n",
    "    print(\"Testing data) time to fit = %s;\", end_time-start_time)\n",
    "    return clf"
   ]
  },
  {
   "cell_type": "code",
   "execution_count": 6,
   "metadata": {
    "collapsed": false
   },
   "outputs": [
    {
     "name": "stdout",
     "output_type": "stream",
     "text": [
      "10) time to fit = 0:00:32.763168; ROC_AUC = 0.664850687975\n",
      "\n",
      "20) time to fit = 0:00:59.053800; ROC_AUC = 0.682461876804\n",
      "\n",
      "30) time to fit = 0:01:27.755503; ROC_AUC = 0.690006471039\n",
      "\n",
      "40) time to fit = 0:01:54.582916; ROC_AUC = 0.693941559672\n",
      "\n",
      "50) time to fit = 0:02:22.777606; ROC_AUC = 0.697493744081\n",
      "\n"
     ]
    }
   ],
   "source": [
    "kfold = KFold(n_splits=5, shuffle=True, random_state=42)\n",
    "for num_tree in [10,20,30,40,50]:\n",
    "    testGBC(X, y, kfold, num_tree)"
   ]
  },
  {
   "cell_type": "code",
   "execution_count": 7,
   "metadata": {
    "collapsed": false
   },
   "outputs": [
    {
     "name": "stdout",
     "output_type": "stream",
     "text": [
      "Testing data) time to fit = %s; 0:00:38.200458\n",
      "1. feature 76 d5_gold (0.092144)\n",
      "2. feature 52 d2_gold (0.091675)\n",
      "3. feature 12 r2_gold (0.085039)\n",
      "4. feature 44 d1_gold (0.084979)\n",
      "5. feature 28 r4_gold (0.084723)\n",
      "6. feature 4 r1_gold (0.083765)\n",
      "7. feature 68 d4_gold (0.079843)\n",
      "8. feature 20 r3_gold (0.079053)\n",
      "9. feature 36 r5_gold (0.077562)\n",
      "10. feature 60 d3_gold (0.071788)\n",
      "11. feature 83 first_blood_player1 (0.033225)\n",
      "12. feature 89 radiant_boots_count (0.028435)\n",
      "13. feature 97 dire_boots_count (0.021370)\n",
      "14. feature 87 radiant_flying_courier_time (0.012335)\n",
      "15. feature 37 r5_lh (0.010165)\n",
      "16. feature 13 r2_lh (0.009575)\n",
      "17. feature 96 dire_tpscroll_count (0.007485)\n",
      "18. feature 61 d3_lh (0.006924)\n",
      "19. feature 69 d4_lh (0.006900)\n",
      "20. feature 45 d1_lh (0.006542)\n",
      "21. feature 29 r4_lh (0.006232)\n",
      "22. feature 5 r1_lh (0.003429)\n",
      "23. feature 100 dire_first_ward_time (0.002416)\n",
      "24. feature 31 r4_deaths (0.001953)\n",
      "25. feature 88 radiant_tpscroll_count (0.001472)\n",
      "26. feature 71 d4_deaths (0.001424)\n",
      "27. feature 77 d5_lh (0.001387)\n",
      "28. feature 67 d4_xp (0.001381)\n",
      "29. feature 75 d5_xp (0.001134)\n",
      "30. feature 11 r2_xp (0.001004)\n",
      "31. feature 0 lobby_type (0.000953)\n",
      "32. feature 35 r5_xp (0.000805)\n",
      "33. feature 40 r5_items (0.000774)\n",
      "34. feature 51 d2_xp (0.000571)\n",
      "35. feature 62 d3_kills (0.000555)\n",
      "36. feature 81 first_blood_time (0.000434)\n",
      "37. feature 43 d1_xp (0.000317)\n",
      "38. feature 53 d2_lh (0.000232)\n",
      "39. feature 22 r3_kills (0.000000)\n",
      "40. feature 19 r3_xp (0.000000)\n",
      "41. feature 91 radiant_ward_sentry_count (0.000000)\n",
      "42. feature 21 r3_lh (0.000000)\n",
      "43. feature 70 d4_kills (0.000000)\n",
      "44. feature 17 r3_hero (0.000000)\n",
      "45. feature 23 r3_deaths (0.000000)\n",
      "46. feature 24 r3_items (0.000000)\n",
      "47. feature 25 r4_hero (0.000000)\n",
      "48. feature 26 r4_level (0.000000)\n",
      "49. feature 27 r4_xp (0.000000)\n",
      "50. feature 90 radiant_ward_observer_count (0.000000)\n",
      "51. feature 18 r3_level (0.000000)\n",
      "52. feature 15 r2_deaths (0.000000)\n",
      "53. feature 16 r2_items (0.000000)\n",
      "54. feature 7 r1_deaths (0.000000)\n",
      "55. feature 1 r1_hero (0.000000)\n",
      "56. feature 2 r1_level (0.000000)\n",
      "57. feature 3 r1_xp (0.000000)\n",
      "58. feature 98 dire_ward_observer_count (0.000000)\n",
      "59. feature 95 dire_flying_courier_time (0.000000)\n",
      "60. feature 6 r1_kills (0.000000)\n",
      "61. feature 8 r1_items (0.000000)\n",
      "62. feature 30 r4_kills (0.000000)\n",
      "63. feature 9 r2_hero (0.000000)\n",
      "64. feature 10 r2_level (0.000000)\n",
      "65. feature 94 dire_courier_time (0.000000)\n",
      "66. feature 93 dire_bottle_time (0.000000)\n",
      "67. feature 92 radiant_first_ward_time (0.000000)\n",
      "68. feature 14 r2_kills (0.000000)\n",
      "69. feature 86 radiant_courier_time (0.000000)\n",
      "70. feature 34 r5_level (0.000000)\n",
      "71. feature 85 radiant_bottle_time (0.000000)\n",
      "72. feature 79 d5_deaths (0.000000)\n",
      "73. feature 73 d5_hero (0.000000)\n",
      "74. feature 66 d4_level (0.000000)\n",
      "75. feature 65 d4_hero (0.000000)\n",
      "76. feature 64 d3_items (0.000000)\n",
      "77. feature 63 d3_deaths (0.000000)\n",
      "78. feature 74 d5_level (0.000000)\n",
      "79. feature 78 d5_kills (0.000000)\n",
      "80. feature 59 d3_xp (0.000000)\n",
      "81. feature 58 d3_level (0.000000)\n",
      "82. feature 57 d3_hero (0.000000)\n",
      "83. feature 56 d2_items (0.000000)\n",
      "84. feature 55 d2_deaths (0.000000)\n",
      "85. feature 54 d2_kills (0.000000)\n",
      "86. feature 99 dire_ward_sentry_count (0.000000)\n",
      "87. feature 32 r4_items (0.000000)\n",
      "88. feature 49 d2_hero (0.000000)\n",
      "89. feature 48 d1_items (0.000000)\n",
      "90. feature 47 d1_deaths (0.000000)\n",
      "91. feature 46 d1_kills (0.000000)\n",
      "92. feature 80 d5_items (0.000000)\n",
      "93. feature 42 d1_level (0.000000)\n",
      "94. feature 41 d1_hero (0.000000)\n",
      "95. feature 39 r5_deaths (0.000000)\n",
      "96. feature 38 r5_kills (0.000000)\n",
      "97. feature 82 first_blood_team (0.000000)\n",
      "98. feature 84 first_blood_player2 (0.000000)\n",
      "99. feature 72 d4_items (0.000000)\n",
      "100. feature 33 r5_hero (0.000000)\n",
      "101. feature 50 d2_level (0.000000)\n"
     ]
    }
   ],
   "source": [
    "gbc = trainGBC(X, y)\n",
    "describeImportance(gbc, X)\n",
    "pred = gbc.predict_proba(X_test)[:, 1]"
   ]
  },
  {
   "cell_type": "code",
   "execution_count": 5,
   "metadata": {
    "collapsed": true
   },
   "outputs": [],
   "source": [
    "def prepareData(X):\n",
    "    X_ = pd.DataFrame()\n",
    "    \n",
    "    #X_['first_blood_team'] = X['first_blood_team']\n",
    "    \n",
    "    dire_gold = X['d5_gold'] + X['d4_gold'] + X['d3_gold'] + X['d2_gold'] + X['d1_gold']\n",
    "    radiant_gold = X['r5_gold'] + X['r4_gold'] + X['r3_gold'] + X['r2_gold'] + X['r1_gold']\n",
    "    X_['gold_delta'] = dire_gold - radiant_gold\n",
    "    \n",
    "    dire_lh = X['d5_lh'] + X['d4_lh'] + X['d3_lh']+ X['d2_lh'] +X['d1_lh']\n",
    "    radiant_lh = X['r5_lh'] + X['r4_lh'] + X['r3_lh']+ X['r2_lh'] +X['r1_lh']\n",
    "    X_['lh_delta'] = dire_lh - radiant_lh\n",
    "    \n",
    "    dire_items = X['d5_items'] + X['d4_items'] + X['d3_items'] + X['d2_items'] + X['d1_items'] \n",
    "    radiant_items = X['r5_items'] + X['r4_items'] + X['r3_items'] + X['r2_items'] + X['r1_items']\n",
    "    X_['items_delta'] = dire_items - radiant_items\n",
    "    \n",
    "    dire_boots_count = X['dire_boots_count']\n",
    "    radiant_boots_count = X['radiant_boots_count']\n",
    "    X_['boots_count_delta'] = dire_boots_count - radiant_boots_count\n",
    "    \n",
    "    dire_xp = X['d5_xp'] + X['d4_xp'] + X['d3_xp'] + X['d2_xp'] + X['d1_xp']\n",
    "    radiant_xp = X['r5_xp'] + X['r4_xp'] + X['r3_xp'] + X['r2_xp'] + X['r1_xp']\n",
    "    X_['xp_delta'] = dire_xp - radiant_xp\n",
    "    \n",
    "    dire_kills = X['d5_kills'] + X['d4_kills'] + X['d3_kills'] + X['d2_kills'] + X['d1_kills']\n",
    "    radiant_kills = X['r5_kills'] + X['r4_kills'] + X['r3_kills'] + X['r2_kills'] + X['r1_kills']\n",
    "    X_['kills_delta'] = dire_kills - radiant_kills\n",
    "    \n",
    "    X_['tpscroll_count_delta'] = X['dire_tpscroll_count'] - X['radiant_tpscroll_count']\n",
    "\n",
    "#     X_['flying_courier_time_delta'] = 0 + (X['dire_flying_courier_time'] > X['radiant_flying_courier_time'])\n",
    "#     X_['courier_time_delta'] = 0 + (X['dire_courier_time'] > X['radiant_courier_time'])\n",
    "#     X_['first_ward_time_delta'] = 0 + (X['dire_first_ward_time'] > X['radiant_first_ward_time'])\n",
    "#     X_['bottle_time_delta'] = 0 + (X['dire_bottle_time'] > X['radiant_bottle_time'])\n",
    "    X_['dire_bottle_time'] = X['dire_bottle_time']\n",
    "    X_['radiant_bottle_time'] = X['radiant_bottle_time']\n",
    "    \n",
    "    X_['dire_flying_courier_time'] = X['dire_flying_courier_time']\n",
    "    X_['radiant_flying_courier_time'] = X['radiant_flying_courier_time']\n",
    "\n",
    "    X_['dire_courier_time'] = X['dire_courier_time']\n",
    "    X_['radiant_courier_time'] = X['radiant_courier_time']\n",
    "    \n",
    "    X_['dire_first_ward_time'] = X['dire_first_ward_time']\n",
    "    X_['radiant_first_ward_time'] = X['radiant_first_ward_time']\n",
    "    \n",
    "    return X_"
   ]
  },
  {
   "cell_type": "code",
   "execution_count": 9,
   "metadata": {
    "collapsed": false
   },
   "outputs": [],
   "source": [
    "def visualize(X, y):\n",
    "    data = prepareData(X)\n",
    "    data['radiant_win'] = y\n",
    "    \n",
    "    sns.set()\n",
    "    return sns.pairplot(data, hue='radiant_win')"
   ]
  },
  {
   "cell_type": "code",
   "execution_count": 10,
   "metadata": {
    "collapsed": true
   },
   "outputs": [],
   "source": [
    "def hypothesis_drop_unused(X, y):\n",
    "    kfold = KFold(n_splits=5, shuffle=True, random_state=42)\n",
    "    X_ = prepareData(X)\n",
    "    testGBC(X_, y, kfold, num_tree=50)\n",
    "    gbc = train(X_, y)\n",
    "    describeImportance(gbc, X_)\n",
    "    pred = gbc.predict_proba(prepareData(X_test))[:, 1]\n",
    "    return pred"
   ]
  },
  {
   "cell_type": "code",
   "execution_count": 11,
   "metadata": {
    "collapsed": false
   },
   "outputs": [
    {
     "data": {
      "text/html": [
       "<div>\n",
       "<table border=\"1\" class=\"dataframe\">\n",
       "  <thead>\n",
       "    <tr style=\"text-align: right;\">\n",
       "      <th></th>\n",
       "      <th>gold_delta</th>\n",
       "      <th>lh_delta</th>\n",
       "      <th>items_delta</th>\n",
       "      <th>boots_count_delta</th>\n",
       "      <th>xp_delta</th>\n",
       "      <th>kills_delta</th>\n",
       "      <th>tpscroll_count_delta</th>\n",
       "      <th>dire_bottle_time</th>\n",
       "      <th>radiant_bottle_time</th>\n",
       "      <th>dire_flying_courier_time</th>\n",
       "      <th>radiant_flying_courier_time</th>\n",
       "      <th>dire_courier_time</th>\n",
       "      <th>radiant_courier_time</th>\n",
       "      <th>dire_first_ward_time</th>\n",
       "      <th>radiant_first_ward_time</th>\n",
       "    </tr>\n",
       "    <tr>\n",
       "      <th>match_id</th>\n",
       "      <th></th>\n",
       "      <th></th>\n",
       "      <th></th>\n",
       "      <th></th>\n",
       "      <th></th>\n",
       "      <th></th>\n",
       "      <th></th>\n",
       "      <th></th>\n",
       "      <th></th>\n",
       "      <th></th>\n",
       "      <th></th>\n",
       "      <th></th>\n",
       "      <th></th>\n",
       "      <th></th>\n",
       "      <th></th>\n",
       "    </tr>\n",
       "  </thead>\n",
       "  <tbody>\n",
       "    <tr>\n",
       "      <th>0</th>\n",
       "      <td>-1</td>\n",
       "      <td>2</td>\n",
       "      <td>-4</td>\n",
       "      <td>2</td>\n",
       "      <td>-443</td>\n",
       "      <td>1</td>\n",
       "      <td>1</td>\n",
       "      <td>103.0</td>\n",
       "      <td>134.0</td>\n",
       "      <td>221.0</td>\n",
       "      <td>244.0</td>\n",
       "      <td>-84.0</td>\n",
       "      <td>-80.0</td>\n",
       "      <td>-52.0</td>\n",
       "      <td>35.0</td>\n",
       "    </tr>\n",
       "    <tr>\n",
       "      <th>1</th>\n",
       "      <td>807</td>\n",
       "      <td>-2</td>\n",
       "      <td>3</td>\n",
       "      <td>4</td>\n",
       "      <td>-144</td>\n",
       "      <td>1</td>\n",
       "      <td>3</td>\n",
       "      <td>149.0</td>\n",
       "      <td>173.0</td>\n",
       "      <td>195.0</td>\n",
       "      <td>0.0</td>\n",
       "      <td>-84.0</td>\n",
       "      <td>-80.0</td>\n",
       "      <td>-5.0</td>\n",
       "      <td>-20.0</td>\n",
       "    </tr>\n",
       "    <tr>\n",
       "      <th>2</th>\n",
       "      <td>-891</td>\n",
       "      <td>-11</td>\n",
       "      <td>3</td>\n",
       "      <td>-1</td>\n",
       "      <td>-932</td>\n",
       "      <td>-1</td>\n",
       "      <td>1</td>\n",
       "      <td>45.0</td>\n",
       "      <td>63.0</td>\n",
       "      <td>221.0</td>\n",
       "      <td>0.0</td>\n",
       "      <td>-77.0</td>\n",
       "      <td>-82.0</td>\n",
       "      <td>13.0</td>\n",
       "      <td>-39.0</td>\n",
       "    </tr>\n",
       "    <tr>\n",
       "      <th>3</th>\n",
       "      <td>421</td>\n",
       "      <td>9</td>\n",
       "      <td>8</td>\n",
       "      <td>1</td>\n",
       "      <td>-183</td>\n",
       "      <td>0</td>\n",
       "      <td>0</td>\n",
       "      <td>124.0</td>\n",
       "      <td>208.0</td>\n",
       "      <td>184.0</td>\n",
       "      <td>0.0</td>\n",
       "      <td>-80.0</td>\n",
       "      <td>-75.0</td>\n",
       "      <td>27.0</td>\n",
       "      <td>-30.0</td>\n",
       "    </tr>\n",
       "    <tr>\n",
       "      <th>4</th>\n",
       "      <td>180</td>\n",
       "      <td>15</td>\n",
       "      <td>-2</td>\n",
       "      <td>-1</td>\n",
       "      <td>511</td>\n",
       "      <td>-2</td>\n",
       "      <td>5</td>\n",
       "      <td>182.0</td>\n",
       "      <td>166.0</td>\n",
       "      <td>225.0</td>\n",
       "      <td>181.0</td>\n",
       "      <td>-80.0</td>\n",
       "      <td>-81.0</td>\n",
       "      <td>-16.0</td>\n",
       "      <td>46.0</td>\n",
       "    </tr>\n",
       "  </tbody>\n",
       "</table>\n",
       "</div>"
      ],
      "text/plain": [
       "          gold_delta  lh_delta  items_delta  boots_count_delta  xp_delta  \\\n",
       "match_id                                                                   \n",
       "0                 -1         2           -4                  2      -443   \n",
       "1                807        -2            3                  4      -144   \n",
       "2               -891       -11            3                 -1      -932   \n",
       "3                421         9            8                  1      -183   \n",
       "4                180        15           -2                 -1       511   \n",
       "\n",
       "          kills_delta  tpscroll_count_delta  dire_bottle_time  \\\n",
       "match_id                                                        \n",
       "0                   1                     1             103.0   \n",
       "1                   1                     3             149.0   \n",
       "2                  -1                     1              45.0   \n",
       "3                   0                     0             124.0   \n",
       "4                  -2                     5             182.0   \n",
       "\n",
       "          radiant_bottle_time  dire_flying_courier_time  \\\n",
       "match_id                                                  \n",
       "0                       134.0                     221.0   \n",
       "1                       173.0                     195.0   \n",
       "2                        63.0                     221.0   \n",
       "3                       208.0                     184.0   \n",
       "4                       166.0                     225.0   \n",
       "\n",
       "          radiant_flying_courier_time  dire_courier_time  \\\n",
       "match_id                                                   \n",
       "0                               244.0              -84.0   \n",
       "1                                 0.0              -84.0   \n",
       "2                                 0.0              -77.0   \n",
       "3                                 0.0              -80.0   \n",
       "4                               181.0              -80.0   \n",
       "\n",
       "          radiant_courier_time  dire_first_ward_time  radiant_first_ward_time  \n",
       "match_id                                                                       \n",
       "0                        -80.0                 -52.0                     35.0  \n",
       "1                        -80.0                  -5.0                    -20.0  \n",
       "2                        -82.0                  13.0                    -39.0  \n",
       "3                        -75.0                  27.0                    -30.0  \n",
       "4                        -81.0                 -16.0                     46.0  "
      ]
     },
     "execution_count": 11,
     "metadata": {},
     "output_type": "execute_result"
    }
   ],
   "source": [
    "prepareData(X).head()"
   ]
  },
  {
   "cell_type": "code",
   "execution_count": 12,
   "metadata": {
    "collapsed": false
   },
   "outputs": [
    {
     "name": "stdout",
     "output_type": "stream",
     "text": [
      "50) time to fit = 0:00:29.079769; ROC_AUC = 0.716334574053\n",
      "\n",
      "Testing data) time to fit = %s; 0:00:08.092733\n",
      "1. feature 0 gold_delta (0.337329)\n",
      "2. feature 1 lh_delta (0.152366)\n",
      "3. feature 4 xp_delta (0.120645)\n",
      "4. feature 2 items_delta (0.085024)\n",
      "5. feature 14 radiant_first_ward_time (0.051578)\n",
      "6. feature 13 dire_first_ward_time (0.048811)\n",
      "7. feature 10 radiant_flying_courier_time (0.035342)\n",
      "8. feature 7 dire_bottle_time (0.033010)\n",
      "9. feature 12 radiant_courier_time (0.030342)\n",
      "10. feature 6 tpscroll_count_delta (0.029594)\n",
      "11. feature 11 dire_courier_time (0.026516)\n",
      "12. feature 3 boots_count_delta (0.020239)\n",
      "13. feature 9 dire_flying_courier_time (0.014102)\n",
      "14. feature 8 radiant_bottle_time (0.010991)\n",
      "15. feature 5 kills_delta (0.004111)\n"
     ]
    }
   ],
   "source": [
    "pred = hypothesis_drop_unused(X, y)"
   ]
  },
  {
   "cell_type": "code",
   "execution_count": 6,
   "metadata": {
    "collapsed": true
   },
   "outputs": [],
   "source": [
    "def save(fname, pred, test):\n",
    "    res1 = pd.DataFrame()\n",
    "    res1['match_id'] = test.index\n",
    "    res1['radiant_win'] = pred\n",
    "    res1.to_csv(\"submissions/{0}.csv\".format(fname), index=False)\n",
    "    res1"
   ]
  },
  {
   "cell_type": "code",
   "execution_count": 14,
   "metadata": {
    "collapsed": false
   },
   "outputs": [],
   "source": [
    "save(\"gb_without_unused\", pred, X_test)"
   ]
  },
  {
   "cell_type": "markdown",
   "metadata": {},
   "source": [
    "## Логистическая регрессия"
   ]
  },
  {
   "cell_type": "code",
   "execution_count": 7,
   "metadata": {
    "collapsed": false
   },
   "outputs": [],
   "source": [
    "def testLR(X, y):\n",
    "    clf = LogisticRegression(random_state=42)\n",
    "    XX = StandardScaler().fit_transform(X)\n",
    "    kfold = KFold(n_splits=5, shuffle=True, random_state=42)\n",
    "    grid = {'C': np.linspace(0.001,1,10)}\n",
    "    grid_search = GridSearchCV(clf, grid, scoring='roc_auc', cv=kfold)\n",
    "    grid_search.fit(XX, y)\n",
    "\n",
    "    print('Best score: {}'.format(grid_search.best_score_))\n",
    "    print('Best parameters: {}'.format(grid_search.best_params_))"
   ]
  },
  {
   "cell_type": "code",
   "execution_count": 8,
   "metadata": {
    "collapsed": true
   },
   "outputs": [],
   "source": [
    "def trainLR(X, y, X_test, C):\n",
    "    clf = LogisticRegression(random_state=42, C=C)\n",
    "    XX = StandardScaler().fit_transform(X)\n",
    "    clf.fit(XX, y)\n",
    "    XX_test = StandardScaler().fit_transform(X_test)\n",
    "    return clf.predict_proba(XX_test)[:, 1]"
   ]
  },
  {
   "cell_type": "code",
   "execution_count": 17,
   "metadata": {
    "collapsed": false
   },
   "outputs": [
    {
     "name": "stdout",
     "output_type": "stream",
     "text": [
      "Best score: 0.7164096882227959\n",
      "Best parameters: {'C': 0.112}\n"
     ]
    }
   ],
   "source": [
    "testLR(X, y)"
   ]
  },
  {
   "cell_type": "code",
   "execution_count": 18,
   "metadata": {
    "collapsed": false
   },
   "outputs": [
    {
     "name": "stdout",
     "output_type": "stream",
     "text": [
      "Best score: 0.7168014373768751\n",
      "Best parameters: {'C': 1.0}\n"
     ]
    }
   ],
   "source": [
    "testLR(prepareData(X), y)"
   ]
  },
  {
   "cell_type": "code",
   "execution_count": 9,
   "metadata": {
    "collapsed": false
   },
   "outputs": [],
   "source": [
    "def countHeroes(X):\n",
    "    heroes = ['{}{}_hero'.format(team, i + 1) for i in range(5) for team in ['r', 'd']]\n",
    "    return np.unique(np.concatenate([X[h].unique() for h in heroes])).size"
   ]
  },
  {
   "cell_type": "code",
   "execution_count": 10,
   "metadata": {
    "collapsed": true
   },
   "outputs": [],
   "source": [
    "def wordsBag(X, N):\n",
    "    # N — количество различных героев в выборке\n",
    "    X_pick = np.zeros((X.shape[0], N))\n",
    "\n",
    "    for i, match_id in enumerate(X.index):\n",
    "        for p in range(5):\n",
    "            X_pick[i, X.ix[match_id, 'r%d_hero' % (p+1)]-1] = 1\n",
    "            X_pick[i, X.ix[match_id, 'd%d_hero' % (p+1)]-1] = -1\n",
    "\n",
    "    return X_pick"
   ]
  },
  {
   "cell_type": "code",
   "execution_count": 23,
   "metadata": {
    "collapsed": false
   },
   "outputs": [],
   "source": [
    "bag = wordsBag(X, 113)"
   ]
  },
  {
   "cell_type": "code",
   "execution_count": 22,
   "metadata": {
    "collapsed": false
   },
   "outputs": [
    {
     "name": "stdout",
     "output_type": "stream",
     "text": [
      "Best score: 0.607769564074281\n",
      "Best parameters: {'C': 1.0}\n"
     ]
    }
   ],
   "source": [
    "testLR(pd.DataFrame(bag, index=X.index), y)"
   ]
  },
  {
   "cell_type": "code",
   "execution_count": 23,
   "metadata": {
    "collapsed": true
   },
   "outputs": [],
   "source": [
    "superX = pd.concat([pd.DataFrame(bag, index=X.index), prepareData(X)], axis=1)"
   ]
  },
  {
   "cell_type": "code",
   "execution_count": 24,
   "metadata": {
    "collapsed": false
   },
   "outputs": [
    {
     "name": "stdout",
     "output_type": "stream",
     "text": [
      "Best score: 0.752073851548298\n",
      "Best parameters: {'C': 0.112}\n"
     ]
    }
   ],
   "source": [
    "testLR(superX, y)"
   ]
  },
  {
   "cell_type": "code",
   "execution_count": 25,
   "metadata": {
    "collapsed": false
   },
   "outputs": [],
   "source": [
    "bag_test = wordsBag(X_test, 113)\n",
    "superX_test = pd.concat([pd.DataFrame(bag_test, index=X_test.index), prepareData(X_test)], axis=1)\n",
    "pred = trainLR(superX, y, superX_test, 0.112)\n",
    "save(\"lr_with_bag\", pred, X_test) # 0.75490"
   ]
  },
  {
   "cell_type": "markdown",
   "metadata": {},
   "source": [
    "# Случайный лес"
   ]
  },
  {
   "cell_type": "code",
   "execution_count": 26,
   "metadata": {
    "collapsed": true
   },
   "outputs": [],
   "source": [
    "def findParamsRFC(X, Y):\n",
    "    X_train, X_test, y_train, y_test = train_test_split(X, Y, test_size=0.3, random_state=42)\n",
    "    clf = RandomForestClassifier(random_state=42)\n",
    "    parameter_grid = {'n_estimators' : [20, 100],\n",
    "                     'max_depth' : [20, 100],\n",
    "                     'min_samples_split' : [2, 5],\n",
    "                     'max_leaf_nodes' : [40, 60]\n",
    "                    }\n",
    "    grid_search = GridSearchCV(clf, param_grid=parameter_grid, cv=StratifiedKFold(5))\n",
    "    grid_search.fit(X_train, y_train)\n",
    "    print('Best score: {}'.format(grid_search.best_score_))\n",
    "    print('Best parameters: {}'.format(grid_search.best_params_))"
   ]
  },
  {
   "cell_type": "code",
   "execution_count": 27,
   "metadata": {
    "collapsed": false
   },
   "outputs": [
    {
     "name": "stdout",
     "output_type": "stream",
     "text": [
      "Best score: 0.6285714285714286\n",
      "Best parameters: {'max_depth': 20, 'min_samples_split': 5, 'n_estimators': 100, 'max_leaf_nodes': 40}\n"
     ]
    }
   ],
   "source": [
    "findParamsRFC(superX.head(50), y.head(50))"
   ]
  },
  {
   "cell_type": "code",
   "execution_count": 28,
   "metadata": {
    "collapsed": true
   },
   "outputs": [],
   "source": [
    "def trainRFC(X, y, X_test):\n",
    "    clf = RandomForestClassifier(random_state=42, n_estimators=20)\n",
    "    clf.fit(X, y)\n",
    "    return clf.predict_proba(X_test)[:, 1]"
   ]
  },
  {
   "cell_type": "code",
   "execution_count": 29,
   "metadata": {
    "collapsed": false
   },
   "outputs": [],
   "source": [
    "pred = trainRFC(superX, y, superX_test)\n",
    "save(\"rfc_with_bag\", pred, X_test) # 0.70690"
   ]
  },
  {
   "cell_type": "markdown",
   "metadata": {},
   "source": [
    "# Синергия героев"
   ]
  },
  {
   "cell_type": "code",
   "execution_count": 11,
   "metadata": {
    "collapsed": true
   },
   "outputs": [],
   "source": [
    "def heroesSingle(data):\n",
    "    wins = {}\n",
    "    defeats = {}\n",
    "    for i, match_id in enumerate(data.index):\n",
    "        for p in range(1,6):\n",
    "            if data.ix[match_id, 'radiant_win'] == 1:\n",
    "                wins[data.ix[match_id, 'r{}_hero'.format(p)]] = wins.get(data.ix[match_id, 'r{}_hero'.format(p)], 0) + 1\n",
    "                defeats[data.ix[match_id, 'd{}_hero'.format(p)]] = defeats.get(data.ix[match_id, 'd{}_hero'.format(p)], 0) + 1\n",
    "            else:\n",
    "                wins[data.ix[match_id, 'd{}_hero'.format(p)]] = wins.get(data.ix[match_id, 'd{}_hero'.format(p)], 0) + 1\n",
    "                defeats[data.ix[match_id, 'r{}_hero'.format(p)]] = defeats.get(data.ix[match_id, 'r{}_hero'.format(p)], 0) + 1\n",
    "                \n",
    "    df_wins = pd.DataFrame(list(wins.values()), columns=['wins'], index=wins.keys())\n",
    "    df_defeats = pd.DataFrame(list(defeats.values()), columns=['defeats'], index=defeats.keys())\n",
    "    df = df_wins.join(df_defeats)\n",
    "    df['w-d'] = df['wins'] - df['defeats']\n",
    "    df['all'] = df['wins'] + df['defeats']\n",
    "    df['avg_win'] = df['wins'] / df['all']\n",
    "    return df"
   ]
  },
  {
   "cell_type": "code",
   "execution_count": 12,
   "metadata": {
    "collapsed": true
   },
   "outputs": [],
   "source": [
    "def heroesPair(data, match_id, p, side):\n",
    "    heroesPair = (data.ix[match_id, '{}{}_hero'.format(side, p[0])], data.ix[match_id, '{}{}_hero'.format(side, p[1])])\n",
    "    return tuple(sorted(heroesPair)) # because it's unordered selections\n",
    "\n",
    "def calculatePairAvgWins(data):\n",
    "    pairs = [(i,j) for i in range(1,6) for j in range(i+1,6)]\n",
    "    wins = {}\n",
    "    defeats = {}\n",
    "    for i, match_id in enumerate(data.index):\n",
    "        for p in pairs:\n",
    "            rp = heroesPair(data, match_id, p, 'r')\n",
    "            dp = heroesPair(data, match_id, p, 'd')\n",
    "            if train.ix[match_id, 'radiant_win'] == 1:\n",
    "                wins[rp] = wins.get(rp, 0) + 1\n",
    "                defeats[dp] = defeats.get(dp, 0) + 1\n",
    "            else:\n",
    "                wins[dp] = wins.get(dp, 0) + 1\n",
    "                defeats[rp] = defeats.get(rp, 0) + 1\n",
    "    \n",
    "    df_wins = pd.DataFrame(list(wins.values()), columns=['wins'], index=wins.keys())\n",
    "    df_defeats = pd.DataFrame(list(defeats.values()), columns=['defeats'], index=defeats.keys())\n",
    "    df = df_wins.join(df_defeats)\n",
    "    df['w-d'] = df['wins'] - df['defeats']\n",
    "    df['all'] = df['wins'] + df['defeats']\n",
    "    df['avg_win'] = df['wins'] / df['all']\n",
    "    return df"
   ]
  },
  {
   "cell_type": "code",
   "execution_count": 15,
   "metadata": {
    "collapsed": false
   },
   "outputs": [],
   "source": [
    "heroes = heroesSingle(train)"
   ]
  },
  {
   "cell_type": "code",
   "execution_count": 32,
   "metadata": {
    "collapsed": true
   },
   "outputs": [],
   "source": [
    "heroesPairs = calculatePairAvgWins(train)"
   ]
  },
  {
   "cell_type": "code",
   "execution_count": 16,
   "metadata": {
    "collapsed": false
   },
   "outputs": [
    {
     "data": {
      "text/html": [
       "<div>\n",
       "<table border=\"1\" class=\"dataframe\">\n",
       "  <thead>\n",
       "    <tr style=\"text-align: right;\">\n",
       "      <th></th>\n",
       "      <th>wins</th>\n",
       "      <th>defeats</th>\n",
       "      <th>w-d</th>\n",
       "      <th>all</th>\n",
       "      <th>avg_win</th>\n",
       "    </tr>\n",
       "  </thead>\n",
       "  <tbody>\n",
       "    <tr>\n",
       "      <th>1</th>\n",
       "      <td>5371</td>\n",
       "      <td>5412</td>\n",
       "      <td>-41</td>\n",
       "      <td>10783</td>\n",
       "      <td>0.498099</td>\n",
       "    </tr>\n",
       "    <tr>\n",
       "      <th>2</th>\n",
       "      <td>2487</td>\n",
       "      <td>3558</td>\n",
       "      <td>-1071</td>\n",
       "      <td>6045</td>\n",
       "      <td>0.411414</td>\n",
       "    </tr>\n",
       "    <tr>\n",
       "      <th>3</th>\n",
       "      <td>5239</td>\n",
       "      <td>5695</td>\n",
       "      <td>-456</td>\n",
       "      <td>10934</td>\n",
       "      <td>0.479148</td>\n",
       "    </tr>\n",
       "    <tr>\n",
       "      <th>4</th>\n",
       "      <td>2611</td>\n",
       "      <td>2556</td>\n",
       "      <td>55</td>\n",
       "      <td>5167</td>\n",
       "      <td>0.505322</td>\n",
       "    </tr>\n",
       "    <tr>\n",
       "      <th>5</th>\n",
       "      <td>3944</td>\n",
       "      <td>3651</td>\n",
       "      <td>293</td>\n",
       "      <td>7595</td>\n",
       "      <td>0.519289</td>\n",
       "    </tr>\n",
       "  </tbody>\n",
       "</table>\n",
       "</div>"
      ],
      "text/plain": [
       "   wins  defeats   w-d    all   avg_win\n",
       "1  5371     5412   -41  10783  0.498099\n",
       "2  2487     3558 -1071   6045  0.411414\n",
       "3  5239     5695  -456  10934  0.479148\n",
       "4  2611     2556    55   5167  0.505322\n",
       "5  3944     3651   293   7595  0.519289"
      ]
     },
     "execution_count": 16,
     "metadata": {},
     "output_type": "execute_result"
    }
   ],
   "source": [
    "heroes.head()"
   ]
  },
  {
   "cell_type": "code",
   "execution_count": 18,
   "metadata": {
    "collapsed": false
   },
   "outputs": [
    {
     "data": {
      "text/html": [
       "<div>\n",
       "<table border=\"1\" class=\"dataframe\">\n",
       "  <thead>\n",
       "    <tr style=\"text-align: right;\">\n",
       "      <th></th>\n",
       "      <th>wins</th>\n",
       "      <th>defeats</th>\n",
       "      <th>w-d</th>\n",
       "      <th>all</th>\n",
       "      <th>avg_win</th>\n",
       "    </tr>\n",
       "  </thead>\n",
       "  <tbody>\n",
       "    <tr>\n",
       "      <th>(1, 2)</th>\n",
       "      <td>116</td>\n",
       "      <td>204.0</td>\n",
       "      <td>-88.0</td>\n",
       "      <td>320.0</td>\n",
       "      <td>0.362500</td>\n",
       "    </tr>\n",
       "    <tr>\n",
       "      <th>(1, 3)</th>\n",
       "      <td>225</td>\n",
       "      <td>279.0</td>\n",
       "      <td>-54.0</td>\n",
       "      <td>504.0</td>\n",
       "      <td>0.446429</td>\n",
       "    </tr>\n",
       "    <tr>\n",
       "      <th>(1, 4)</th>\n",
       "      <td>78</td>\n",
       "      <td>64.0</td>\n",
       "      <td>14.0</td>\n",
       "      <td>142.0</td>\n",
       "      <td>0.549296</td>\n",
       "    </tr>\n",
       "    <tr>\n",
       "      <th>(1, 5)</th>\n",
       "      <td>231</td>\n",
       "      <td>217.0</td>\n",
       "      <td>14.0</td>\n",
       "      <td>448.0</td>\n",
       "      <td>0.515625</td>\n",
       "    </tr>\n",
       "    <tr>\n",
       "      <th>(1, 6)</th>\n",
       "      <td>16</td>\n",
       "      <td>29.0</td>\n",
       "      <td>-13.0</td>\n",
       "      <td>45.0</td>\n",
       "      <td>0.355556</td>\n",
       "    </tr>\n",
       "    <tr>\n",
       "      <th>(1, 7)</th>\n",
       "      <td>1292</td>\n",
       "      <td>1280.0</td>\n",
       "      <td>12.0</td>\n",
       "      <td>2572.0</td>\n",
       "      <td>0.502333</td>\n",
       "    </tr>\n",
       "    <tr>\n",
       "      <th>(1, 8)</th>\n",
       "      <td>16</td>\n",
       "      <td>27.0</td>\n",
       "      <td>-11.0</td>\n",
       "      <td>43.0</td>\n",
       "      <td>0.372093</td>\n",
       "    </tr>\n",
       "    <tr>\n",
       "      <th>(1, 9)</th>\n",
       "      <td>66</td>\n",
       "      <td>65.0</td>\n",
       "      <td>1.0</td>\n",
       "      <td>131.0</td>\n",
       "      <td>0.503817</td>\n",
       "    </tr>\n",
       "    <tr>\n",
       "      <th>(1, 10)</th>\n",
       "      <td>16</td>\n",
       "      <td>10.0</td>\n",
       "      <td>6.0</td>\n",
       "      <td>26.0</td>\n",
       "      <td>0.615385</td>\n",
       "    </tr>\n",
       "    <tr>\n",
       "      <th>(1, 11)</th>\n",
       "      <td>837</td>\n",
       "      <td>707.0</td>\n",
       "      <td>130.0</td>\n",
       "      <td>1544.0</td>\n",
       "      <td>0.542098</td>\n",
       "    </tr>\n",
       "    <tr>\n",
       "      <th>(1, 12)</th>\n",
       "      <td>15</td>\n",
       "      <td>24.0</td>\n",
       "      <td>-9.0</td>\n",
       "      <td>39.0</td>\n",
       "      <td>0.384615</td>\n",
       "    </tr>\n",
       "    <tr>\n",
       "      <th>(1, 13)</th>\n",
       "      <td>84</td>\n",
       "      <td>111.0</td>\n",
       "      <td>-27.0</td>\n",
       "      <td>195.0</td>\n",
       "      <td>0.430769</td>\n",
       "    </tr>\n",
       "    <tr>\n",
       "      <th>(1, 14)</th>\n",
       "      <td>97</td>\n",
       "      <td>89.0</td>\n",
       "      <td>8.0</td>\n",
       "      <td>186.0</td>\n",
       "      <td>0.521505</td>\n",
       "    </tr>\n",
       "    <tr>\n",
       "      <th>(1, 15)</th>\n",
       "      <td>101</td>\n",
       "      <td>100.0</td>\n",
       "      <td>1.0</td>\n",
       "      <td>201.0</td>\n",
       "      <td>0.502488</td>\n",
       "    </tr>\n",
       "    <tr>\n",
       "      <th>(1, 16)</th>\n",
       "      <td>109</td>\n",
       "      <td>104.0</td>\n",
       "      <td>5.0</td>\n",
       "      <td>213.0</td>\n",
       "      <td>0.511737</td>\n",
       "    </tr>\n",
       "    <tr>\n",
       "      <th>(1, 17)</th>\n",
       "      <td>242</td>\n",
       "      <td>283.0</td>\n",
       "      <td>-41.0</td>\n",
       "      <td>525.0</td>\n",
       "      <td>0.460952</td>\n",
       "    </tr>\n",
       "    <tr>\n",
       "      <th>(1, 18)</th>\n",
       "      <td>25</td>\n",
       "      <td>35.0</td>\n",
       "      <td>-10.0</td>\n",
       "      <td>60.0</td>\n",
       "      <td>0.416667</td>\n",
       "    </tr>\n",
       "    <tr>\n",
       "      <th>(1, 19)</th>\n",
       "      <td>60</td>\n",
       "      <td>93.0</td>\n",
       "      <td>-33.0</td>\n",
       "      <td>153.0</td>\n",
       "      <td>0.392157</td>\n",
       "    </tr>\n",
       "    <tr>\n",
       "      <th>(1, 20)</th>\n",
       "      <td>209</td>\n",
       "      <td>247.0</td>\n",
       "      <td>-38.0</td>\n",
       "      <td>456.0</td>\n",
       "      <td>0.458333</td>\n",
       "    </tr>\n",
       "    <tr>\n",
       "      <th>(1, 21)</th>\n",
       "      <td>570</td>\n",
       "      <td>577.0</td>\n",
       "      <td>-7.0</td>\n",
       "      <td>1147.0</td>\n",
       "      <td>0.496949</td>\n",
       "    </tr>\n",
       "  </tbody>\n",
       "</table>\n",
       "</div>"
      ],
      "text/plain": [
       "         wins  defeats    w-d     all   avg_win\n",
       "(1, 2)    116    204.0  -88.0   320.0  0.362500\n",
       "(1, 3)    225    279.0  -54.0   504.0  0.446429\n",
       "(1, 4)     78     64.0   14.0   142.0  0.549296\n",
       "(1, 5)    231    217.0   14.0   448.0  0.515625\n",
       "(1, 6)     16     29.0  -13.0    45.0  0.355556\n",
       "(1, 7)   1292   1280.0   12.0  2572.0  0.502333\n",
       "(1, 8)     16     27.0  -11.0    43.0  0.372093\n",
       "(1, 9)     66     65.0    1.0   131.0  0.503817\n",
       "(1, 10)    16     10.0    6.0    26.0  0.615385\n",
       "(1, 11)   837    707.0  130.0  1544.0  0.542098\n",
       "(1, 12)    15     24.0   -9.0    39.0  0.384615\n",
       "(1, 13)    84    111.0  -27.0   195.0  0.430769\n",
       "(1, 14)    97     89.0    8.0   186.0  0.521505\n",
       "(1, 15)   101    100.0    1.0   201.0  0.502488\n",
       "(1, 16)   109    104.0    5.0   213.0  0.511737\n",
       "(1, 17)   242    283.0  -41.0   525.0  0.460952\n",
       "(1, 18)    25     35.0  -10.0    60.0  0.416667\n",
       "(1, 19)    60     93.0  -33.0   153.0  0.392157\n",
       "(1, 20)   209    247.0  -38.0   456.0  0.458333\n",
       "(1, 21)   570    577.0   -7.0  1147.0  0.496949"
      ]
     },
     "execution_count": 18,
     "metadata": {},
     "output_type": "execute_result"
    }
   ],
   "source": [
    "heroesPairs.sort_index().head(20)"
   ]
  },
  {
   "cell_type": "code",
   "execution_count": 17,
   "metadata": {
    "collapsed": false
   },
   "outputs": [],
   "source": [
    "def prepareHeroes(data, heroes):\n",
    "    df = pd.DataFrame()\n",
    "    for i, match_id in enumerate(data.index):\n",
    "        for team in ['r', 'd']:\n",
    "            rate = 0\n",
    "            for i in range(1,6):\n",
    "                rate += heroes.ix[data.ix[match_id, '{}{}_hero'.format(team, i)], 'avg_win']\n",
    "            df.set_value(match_id, 'heroes_rate_{}'.format(team),  rate)\n",
    "    \n",
    "    return df"
   ]
  },
  {
   "cell_type": "code",
   "execution_count": 19,
   "metadata": {
    "collapsed": false
   },
   "outputs": [],
   "source": [
    "X_rated = prepareHeroes(train, heroes)"
   ]
  },
  {
   "cell_type": "code",
   "execution_count": 20,
   "metadata": {
    "collapsed": true
   },
   "outputs": [],
   "source": [
    "X_rated_test = prepareHeroes(X_test, heroes)"
   ]
  },
  {
   "cell_type": "code",
   "execution_count": 21,
   "metadata": {
    "collapsed": false
   },
   "outputs": [],
   "source": [
    "superX = pd.concat([X_rated, prepareData(X)], axis=1)\n",
    "superX_test = pd.concat([X_rated_test, prepareData(X_test)], axis=1)\n",
    "pred = trainLR(superX, y, superX_test, 0.112)\n",
    "save(\"lr_with_heroes\", pred, X_test) # 0.73908"
   ]
  },
  {
   "cell_type": "code",
   "execution_count": 24,
   "metadata": {
    "collapsed": false
   },
   "outputs": [
    {
     "name": "stdout",
     "output_type": "stream",
     "text": [
      "Best score: 0.7520988459991075\n",
      "Best parameters: {'C': 0.112}\n"
     ]
    }
   ],
   "source": [
    "superX = pd.concat([pd.DataFrame(bag, index=X.index), prepareData(X), X_rated], axis=1)\n",
    "testLR(superX, y)"
   ]
  },
  {
   "cell_type": "code",
   "execution_count": 27,
   "metadata": {
    "collapsed": false
   },
   "outputs": [],
   "source": [
    "bag_test = wordsBag(X_test, 113)\n",
    "superX_test = pd.concat([pd.DataFrame(bag_test, index=X_test.index), prepareData(X_test), X_rated_test], axis=1)\n",
    "pred = trainLR(superX, y, superX_test, 0.112)\n",
    "save(\"lr_with_bag_and_heroes\", pred, X_test) # 0.75500"
   ]
  },
  {
   "cell_type": "code",
   "execution_count": 177,
   "metadata": {
    "collapsed": false
   },
   "outputs": [],
   "source": [
    "def prepareHeroesPairs(data, heroesPairs):\n",
    "    df = pd.DataFrame()\n",
    "    for i, match_id in enumerate(data.index):\n",
    "        for team in ['r', 'd']:\n",
    "            rate = 0\n",
    "            for i in range(1,6):\n",
    "                for j in range(i+1, 6):\n",
    "                    a = data.ix[match_id, '{}{}_hero'.format(team, i)]\n",
    "                    b = data.ix[match_id, '{}{}_hero'.format(team, j)]\n",
    "                    r = heroesPairs.ix[[(a, b)], 'avg_win']\n",
    "                    if pd.isnull(r).bool():\n",
    "                        r = pd.Series(0.5, index=[(a,b)], name='avg_win')\n",
    "                    rate += r[0]\n",
    "\n",
    "            df.set_value(match_id, 'heroes_pair_rate_{}'.format(team),  rate)\n",
    "    \n",
    "    return df"
   ]
  },
  {
   "cell_type": "code",
   "execution_count": 180,
   "metadata": {
    "collapsed": false
   },
   "outputs": [
    {
     "data": {
      "text/html": [
       "<div>\n",
       "<table border=\"1\" class=\"dataframe\">\n",
       "  <thead>\n",
       "    <tr style=\"text-align: right;\">\n",
       "      <th></th>\n",
       "      <th>heroes_pair_rate_r</th>\n",
       "      <th>heroes_pair_rate_d</th>\n",
       "    </tr>\n",
       "  </thead>\n",
       "  <tbody>\n",
       "    <tr>\n",
       "      <th>0</th>\n",
       "      <td>5.263939</td>\n",
       "      <td>4.916007</td>\n",
       "    </tr>\n",
       "    <tr>\n",
       "      <th>1</th>\n",
       "      <td>5.095252</td>\n",
       "      <td>4.869165</td>\n",
       "    </tr>\n",
       "    <tr>\n",
       "      <th>2</th>\n",
       "      <td>4.989413</td>\n",
       "      <td>5.310641</td>\n",
       "    </tr>\n",
       "    <tr>\n",
       "      <th>3</th>\n",
       "      <td>4.599543</td>\n",
       "      <td>5.341120</td>\n",
       "    </tr>\n",
       "    <tr>\n",
       "      <th>4</th>\n",
       "      <td>4.538724</td>\n",
       "      <td>4.969877</td>\n",
       "    </tr>\n",
       "  </tbody>\n",
       "</table>\n",
       "</div>"
      ],
      "text/plain": [
       "   heroes_pair_rate_r  heroes_pair_rate_d\n",
       "0            5.263939            4.916007\n",
       "1            5.095252            4.869165\n",
       "2            4.989413            5.310641\n",
       "3            4.599543            5.341120\n",
       "4            4.538724            4.969877"
      ]
     },
     "execution_count": 180,
     "metadata": {},
     "output_type": "execute_result"
    }
   ],
   "source": [
    "X_rated_pairs = prepareHeroesPairs(train, heroesPairs)\n",
    "X_rated_pairs.head()"
   ]
  },
  {
   "cell_type": "code",
   "execution_count": 181,
   "metadata": {
    "collapsed": false
   },
   "outputs": [
    {
     "data": {
      "text/html": [
       "<div>\n",
       "<table border=\"1\" class=\"dataframe\">\n",
       "  <thead>\n",
       "    <tr style=\"text-align: right;\">\n",
       "      <th></th>\n",
       "      <th>heroes_rate_r</th>\n",
       "      <th>heroes_rate_d</th>\n",
       "    </tr>\n",
       "  </thead>\n",
       "  <tbody>\n",
       "    <tr>\n",
       "      <th>6</th>\n",
       "      <td>2.638478</td>\n",
       "      <td>2.351951</td>\n",
       "    </tr>\n",
       "    <tr>\n",
       "      <th>7</th>\n",
       "      <td>2.538274</td>\n",
       "      <td>2.351078</td>\n",
       "    </tr>\n",
       "    <tr>\n",
       "      <th>10</th>\n",
       "      <td>2.343177</td>\n",
       "      <td>2.459007</td>\n",
       "    </tr>\n",
       "    <tr>\n",
       "      <th>13</th>\n",
       "      <td>2.490384</td>\n",
       "      <td>2.539148</td>\n",
       "    </tr>\n",
       "    <tr>\n",
       "      <th>16</th>\n",
       "      <td>2.578568</td>\n",
       "      <td>2.465709</td>\n",
       "    </tr>\n",
       "  </tbody>\n",
       "</table>\n",
       "</div>"
      ],
      "text/plain": [
       "    heroes_rate_r  heroes_rate_d\n",
       "6        2.638478       2.351951\n",
       "7        2.538274       2.351078\n",
       "10       2.343177       2.459007\n",
       "13       2.490384       2.539148\n",
       "16       2.578568       2.465709"
      ]
     },
     "execution_count": 181,
     "metadata": {},
     "output_type": "execute_result"
    }
   ],
   "source": [
    "X_rated_pairs_test = prepareHeroes(X_test, heroes)\n",
    "X_rated_pairs_test.head()"
   ]
  },
  {
   "cell_type": "code",
   "execution_count": 186,
   "metadata": {
    "collapsed": false
   },
   "outputs": [
    {
     "name": "stdout",
     "output_type": "stream",
     "text": [
      "Best score: 0.7580771954975397\n",
      "Best parameters: {'C': 1.0}\n"
     ]
    }
   ],
   "source": [
    "superX = pd.concat([pd.DataFrame(bag, index=X.index), prepareData(X), X_rated, X_rated_pairs], axis=1)\n",
    "superX_test = pd.concat([pd.DataFrame(bag_test, index=X_test.index), prepareData(X_test), X_rated_test, X_rated_pairs_test], axis=1)\n",
    "testLR(superX, y)"
   ]
  },
  {
   "cell_type": "code",
   "execution_count": 187,
   "metadata": {
    "collapsed": true
   },
   "outputs": [],
   "source": [
    "pred = trainLR(superX, y, superX_test, 1.0)\n",
    "save(\"lr_with_bag_and_heroes_and_pairs\", pred, X_test) # 0.75357 - переобучился?"
   ]
  }
 ],
 "metadata": {
  "kernelspec": {
   "display_name": "Python 3",
   "language": "python",
   "name": "python3"
  },
  "language_info": {
   "codemirror_mode": {
    "name": "ipython",
    "version": 3
   },
   "file_extension": ".py",
   "mimetype": "text/x-python",
   "name": "python",
   "nbconvert_exporter": "python",
   "pygments_lexer": "ipython3",
   "version": "3.5.2"
  }
 },
 "nbformat": 4,
 "nbformat_minor": 0
}
